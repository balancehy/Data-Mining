{
 "cells": [
  {
   "cell_type": "code",
   "execution_count": 342,
   "metadata": {},
   "outputs": [],
   "source": [
    "import pandas as pd\n",
    "import numpy as np\n",
    "from sklearn.neighbors import KNeighborsClassifier"
   ]
  },
  {
   "cell_type": "code",
   "execution_count": 374,
   "metadata": {},
   "outputs": [],
   "source": [
    "def metrics(actual, predicted):\n",
    "    \"\"\"metrics\n",
    "    Return Acc, precision, recall, f-measure\n",
    "    \"\"\"\n",
    "    a, b, c, d = 0, 0, 0, 0\n",
    "    for i in range(len(actual)):\n",
    "        if actual[i] == 1 and predicted[i] == 1:\n",
    "            a += 1\n",
    "        elif actual[i] == 1 and predicted[i] == 0:\n",
    "            b += 1\n",
    "        elif actual[i] == 0 and predicted[i] == 1:\n",
    "            c += 1\n",
    "        elif actual[i] == 0 and predicted[i] == 0:\n",
    "            d += 1\n",
    "    def acc(a, b, c, d):\n",
    "            return (a + d) * 1.0 / (a + b + c + d)\n",
    " \n",
    "    def p(a, c):\n",
    "        return a * 1.0 / (a + c)\n",
    "    \n",
    "    def r(a, b):\n",
    "        return a * 1.0 / (a + b)\n",
    "    \n",
    "    def f(a, b, c):\n",
    "        return 2 * a * 1.0 / (2 * a + b + c)\n",
    "\n",
    "    return acc(a, b, c, d), p(a, c), r(a, b), f(a, b, c)"
   ]
  },
  {
   "cell_type": "code",
   "execution_count": 375,
   "metadata": {},
   "outputs": [],
   "source": [
    "import math\n",
    "def cacl_distance(x1, x2):\n",
    "    \"\"\"Cacl the euclidean_distance\"\"\"\n",
    "    dist = 0\n",
    "    for i in range(len(x1)):\n",
    "        dist += pow((x1[i] - x2[i]), 2)\n",
    "    return math.sqrt(dist)"
   ]
  },
  {
   "cell_type": "code",
   "execution_count": 376,
   "metadata": {},
   "outputs": [],
   "source": [
    "class KNN():\n",
    "    def __init__(self, k=5):\n",
    "        # Init the k in KNN algorithm\n",
    "        self.k = k\n",
    "\n",
    "    def predict(self, X_test, X_train, y_train):\n",
    "        \"\"\"Input the train_features, train_labels, test_features\n",
    "        Output the test_labels\n",
    "        \"\"\"\n",
    "        y_predict = np.zeros(X_test.shape[0])\n",
    "        for i in range(X_test.shape[0]):\n",
    "            # The euclidean_distance between the test features and other train features\n",
    "            distances = np.zeros((X_train.shape[0], 2))\n",
    "            for j in range(X_train.shape[0]):\n",
    "                # Cacl the euclidean_distance between the test features and other train features\n",
    "                dis = cacl_distance(X_test[i], X_train[j])\n",
    "                label = y_train[j] # The label of train_set\n",
    "                distances[j] = [dis, label]\n",
    "\n",
    "                # Get top k object ([dis, label]) sort by ASC\n",
    "                k_nearest_neighbors = distances[distances[:, 0].argsort()][:self.k]\n",
    "\n",
    "                # Count the times of each labels appears in K neighbors\n",
    "                counts = np.bincount(k_nearest_neighbors[:, 1].astype('int'))\n",
    "\n",
    "                # Given the label which appears most in counts\n",
    "                testLabel = counts.argmax()\n",
    "                y_predict[i] = testLabel\n",
    "\n",
    "        return y_predict"
   ]
  },
  {
   "cell_type": "code",
   "execution_count": 377,
   "metadata": {},
   "outputs": [],
   "source": [
    "def load_data(file_name):\n",
    "    \"\"\"Load data as pandas dataframe and convert to Numpy ndarray\n",
    "    split the data to train and test set\n",
    "    \"\"\"\n",
    "    data = pd.read_csv(file_name, delimiter='\\t', header=-1)\n",
    "    # Split columns\n",
    "    x = data.iloc[:, :-1].values\n",
    "    y = [i[0] for i in data.iloc[:, -1:].values]\n",
    "    return x, y"
   ]
  },
  {
   "cell_type": "code",
   "execution_count": 381,
   "metadata": {},
   "outputs": [],
   "source": [
    "def data_split(X, y, test_size=0.3):\n",
    "    \"\"\"Split the data into train and test sets\"\"\"\n",
    "    split_i = len(y) - int(len(y) // (1 / test_size))\n",
    "    X_train, X_test = X[:split_i], X[split_i:]\n",
    "    y_train, y_test = y[:split_i], y[split_i:]\n",
    "\n",
    "    return X_train, X_test, y_train, y_test"
   ]
  },
  {
   "cell_type": "markdown",
   "metadata": {},
   "source": [
    "### 1. project3_dataset1"
   ]
  },
  {
   "cell_type": "code",
   "execution_count": 386,
   "metadata": {},
   "outputs": [],
   "source": [
    "x, y = load_data('project3_dataset1.txt')\n",
    "X_train, X_test, y_train, y_test = data_split(x, y, test_size=0.3)"
   ]
  },
  {
   "cell_type": "code",
   "execution_count": 397,
   "metadata": {},
   "outputs": [
    {
     "name": "stdout",
     "output_type": "stream",
     "text": [
      "Accuracy: 0.917647058824\n",
      "Precision: 0.897058823529\n",
      "Recall: 0.897058823529\n",
      "F-measure: 0.897058823529\n",
      "\n"
     ]
    }
   ],
   "source": [
    "model = KNN(k=3)\n",
    "y_pred = model.predict(X_test, X_train, y_train)\n",
    "a, p, r, f = metrics(y_test, y_pred)\n",
    "print \"Accuracy: %s\\nPrecision: %s\\nRecall: %s\\nF-measure: %s\\n\" % (a, p, r, f)"
   ]
  },
  {
   "cell_type": "markdown",
   "metadata": {},
   "source": [
    "### 2. project3_dataset2"
   ]
  },
  {
   "cell_type": "code",
   "execution_count": 443,
   "metadata": {},
   "outputs": [],
   "source": [
    "def encode_string(dataset, col):\n",
    "    m = dict()\n",
    "    total = 0\n",
    "    for i in range(len(dataset)):\n",
    "        if dataset[i][col] not in m:\n",
    "            m[dataset[i][col]] = total\n",
    "            total += 1\n",
    "        dataset[i][col] = m[dataset[i][col]]"
   ]
  },
  {
   "cell_type": "code",
   "execution_count": 444,
   "metadata": {},
   "outputs": [],
   "source": [
    "x, y = load_data('project3_dataset2.txt')\n",
    "encode_string(x, 4)\n",
    "X_train, X_test, y_train, y_test = data_split(x, y, test_size=0.3)"
   ]
  },
  {
   "cell_type": "code",
   "execution_count": 445,
   "metadata": {},
   "outputs": [
    {
     "name": "stdout",
     "output_type": "stream",
     "text": [
      "Accuracy: 0.623188405797\n",
      "Precision: 0.342857142857\n",
      "Recall: 0.292682926829\n",
      "F-measure: 0.315789473684\n",
      "\n"
     ]
    }
   ],
   "source": [
    "model = KNN(k=3)\n",
    "y_pred = model.predict(X_test, X_train, y_train)\n",
    "a, p, r, f = metrics(y_test, y_pred)\n",
    "print \"Accuracy: %s\\nPrecision: %s\\nRecall: %s\\nF-measure: %s\\n\" % (a, p, r, f)"
   ]
  }
 ],
 "metadata": {
  "kernelspec": {
   "display_name": "Python 2",
   "language": "python",
   "name": "python2"
  },
  "language_info": {
   "codemirror_mode": {
    "name": "ipython",
    "version": 2
   },
   "file_extension": ".py",
   "mimetype": "text/x-python",
   "name": "python",
   "nbconvert_exporter": "python",
   "pygments_lexer": "ipython2",
   "version": "2.7.15+"
  }
 },
 "nbformat": 4,
 "nbformat_minor": 2
}
