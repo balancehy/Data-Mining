{
 "cells": [
  {
   "cell_type": "code",
   "execution_count": 1,
   "metadata": {},
   "outputs": [],
   "source": [
    "import pandas as pd\n",
    "import numpy as np\n",
    "\n",
    "class DBSCAN():\n",
    "    def __init__(self, eps, MinPts):\n",
    "        \"\"\"Init DBSCAN class\n",
    "        :parameter D: dataset\n",
    "        :parameter eps: threshold distance\n",
    "        :parameter MinPts: Minimum required number of neighbours\n",
    "        \"\"\"\n",
    "        self.labels = None\n",
    "        self.D = None\n",
    "        self.eps = eps\n",
    "        self.MinPts = MinPts\n",
    "    \n",
    "    def fit(self, D):\n",
    "        \"\"\"Fitting with dataset\n",
    "        :parameter D: dataset\n",
    "        rtype: list\n",
    "        \"\"\"\n",
    "        self.labels = [None for i in range(len(D))] \n",
    "        self.D = D\n",
    "        # Init cluster id from 0\n",
    "        C = 0\n",
    "        for P in range(0, len(D)):\n",
    "            # labels[P] not None, which already clustered\n",
    "            if not (self.labels[P] == None): continue\n",
    "            # return P's NeighborPts\n",
    "            NeighborPts = self.regionQuery(P, self.eps)\n",
    "            if len(NeighborPts) < self.MinPts:\n",
    "                self.labels[P] = -1\n",
    "            else:\n",
    "                C += 1\n",
    "                # Use P to new cluster and expand it\n",
    "                self.expandCluster(P, NeighborPts, C, self.eps, self.MinPts)\n",
    "        return self.labels\n",
    "    \n",
    "    def expandCluster(self, P, NeighborPts, C, eps, MinPts):\n",
    "        \"\"\"expand cluster with P\n",
    "        rtype: None\n",
    "        \"\"\"\n",
    "        # Add P to cluster C\n",
    "        self.labels[P] = C\n",
    "        # For loop all the NeighborPts of P \n",
    "        for Pn in NeighborPts:\n",
    "            if self.labels[Pn] == None:\n",
    "                self.labels[Pn] = C\n",
    "                # return Pn's NeighborPts\n",
    "                PnNeighborPts = self.regionQuery(Pn, eps)\n",
    "                if len(PnNeighborPts) >= MinPts:\n",
    "                    NeighborPts += PnNeighborPts\n",
    "\n",
    "            if self.labels[Pn] == -1:\n",
    "                self.labels[Pn] = C\n",
    "    \n",
    "    def regionQuery(self, P, eps):\n",
    "        P_neighbors = list()\n",
    "        for Pn in range(len(self.D)):\n",
    "            # If distance with the threshold, add to neighbours list\n",
    "            if np.linalg.norm(self.D[P] - self.D[Pn]) <= eps:\n",
    "                P_neighbors.append(Pn)\n",
    "        return P_neighbors"
   ]
  },
  {
   "cell_type": "code",
   "execution_count": 2,
   "metadata": {},
   "outputs": [],
   "source": [
    "def load_data(file_name):\n",
    "    \"\"\"Load data as pandas dataframe\n",
    "    \"\"\"\n",
    "    data = pd.read_csv(file_name, delimiter='\\t', header=-1)\n",
    "    # Split columns\n",
    "    x = data.iloc[:, 2:]\n",
    "    y = data[1]\n",
    "    return x, y"
   ]
  },
  {
   "cell_type": "code",
   "execution_count": 3,
   "metadata": {},
   "outputs": [],
   "source": [
    "def caculate_jaccard_matrix(cluster):\n",
    "    matrixs = [[0 for i in range(len(cluster))] for i in range(len(cluster))]\n",
    "    for i in range(len(cluster)):\n",
    "        for j in range(len(cluster)):\n",
    "            if cluster[i] == cluster[j]:\n",
    "                matrixs[i][j] = 1\n",
    "    return matrixs"
   ]
  },
  {
   "cell_type": "code",
   "execution_count": 4,
   "metadata": {},
   "outputs": [],
   "source": [
    "def perform_jaccard_coefficient(truth, cluster):\n",
    "    \"\"\"caculate the rand and jaccard index\n",
    "    :parameter truth: ground truth labels, cluster: the labels from our algorithm\n",
    "    rtype: rand index(float), jaccard (float)\n",
    "    \"\"\"\n",
    "    same, diff, both_zero = 0, 0, 0\n",
    "    for idx_x, row in enumerate(truth):\n",
    "        for idx_y, value in enumerate(row):\n",
    "            if truth[idx_x][idx_y] == 1 and truth[idx_x][idx_y] == cluster[idx_x][idx_y]:\n",
    "                same += 1\n",
    "            elif truth[idx_x][idx_y] != cluster[idx_x][idx_y]:\n",
    "                diff += 1\n",
    "            else:\n",
    "                both_zero += 1\n",
    "    return (same + both_zero) * 1.0 / (same + both_zero + diff), (same) * 1.0 / (same + diff)"
   ]
  },
  {
   "cell_type": "markdown",
   "metadata": {},
   "source": [
    "# 1. iyer.txt"
   ]
  },
  {
   "cell_type": "code",
   "execution_count": 53,
   "metadata": {},
   "outputs": [],
   "source": [
    "# iyer.txt\n",
    "x, y = load_data('iyer.txt')\n",
    "x = np.array(x).astype(np.float)\n",
    "cluster_labels = DBSCAN(eps=1, MinPts=2).fit(x)"
   ]
  },
  {
   "cell_type": "code",
   "execution_count": 78,
   "metadata": {},
   "outputs": [
    {
     "data": {
      "image/png": "[encoded data removed]",
      "text/plain": [
       "<Figure size 432x288 with 1 Axes>"
      ]
     },
     "metadata": {
      "needs_background": "light"
     },
     "output_type": "display_data"
    }
   ],
   "source": [
    "from sklearn.decomposition import PCA\n",
    "import matplotlib.pyplot as plt\n",
    "data_pca = PCA(n_components=2).fit_transform(x)\n",
    "fig, ax = plt.subplots()\n",
    "fig.suptitle('DBSCAN of iyer.txt')\n",
    "for group in np.unique(cluster_labels):\n",
    "    idx = np.where(cluster_labels == group)\n",
    "    ax.scatter(data_pca[:, 0][idx], data_pca[:, 1][idx], label = group)\n",
    "ax.legend(loc=1, ncol=3)\n",
    "plt.show()"
   ]
  },
  {
   "cell_type": "code",
   "execution_count": 26,
   "metadata": {},
   "outputs": [
    {
     "name": "stdout",
     "output_type": "stream",
     "text": [
      "Rand index: 0.668598408464 Jaccard Coefficient: 0.288462619788\n"
     ]
    }
   ],
   "source": [
    "# Validate clustering results with external index \n",
    "cluster_matrixs = caculate_jaccard_matrix(cluster_labels)\n",
    "ground_truth = caculate_jaccard_matrix(y.tolist())\n",
    "res = perform_jaccard_coefficient(ground_truth, cluster_matrixs)\n",
    "print \"Rand index: \" + str(res[0]) + \" Jaccard Coefficient: \" + str(res[1])"
   ]
  },
  {
   "cell_type": "markdown",
   "metadata": {},
   "source": [
    "# 2. cho.txt"
   ]
  },
  {
   "cell_type": "code",
   "execution_count": 80,
   "metadata": {},
   "outputs": [],
   "source": [
    "# cho.txt\n",
    "x, y = load_data('cho.txt')\n",
    "x = np.array(x).astype(np.float)\n",
    "cluster_labels = DBSCAN(eps=1, MinPts=2).fit(x)"
   ]
  },
  {
   "cell_type": "code",
   "execution_count": 81,
   "metadata": {},
   "outputs": [
    {
     "data": {
      "image/png": "[encoded data removed]",
      "text/plain": [
       "<Figure size 432x288 with 1 Axes>"
      ]
     },
     "metadata": {
      "needs_background": "light"
     },
     "output_type": "display_data"
    }
   ],
   "source": [
    "from sklearn.decomposition import PCA\n",
    "import matplotlib.pyplot as plt\n",
    "data_pca = PCA(n_components=2).fit_transform(x)\n",
    "fig, ax = plt.subplots()\n",
    "fig.suptitle('DBSCAN of cho.txt')\n",
    "for group in np.unique(cluster_labels):\n",
    "    idx = np.where(cluster_labels == group)\n",
    "    ax.scatter(data_pca[:, 0][idx], data_pca[:, 1][idx], label = group)\n",
    "ax.legend(loc=1, ncol=3)\n",
    "plt.show()"
   ]
  },
  {
   "cell_type": "code",
   "execution_count": 44,
   "metadata": {},
   "outputs": [
    {
     "name": "stdout",
     "output_type": "stream",
     "text": [
      "Rand index: 0.568968294451 Jaccard Coefficient: 0.19818717539\n"
     ]
    }
   ],
   "source": [
    "# Validate clustering results with external index \n",
    "cluster_matrixs = caculate_jaccard_matrix(cluster_labels)\n",
    "ground_truth = caculate_jaccard_matrix(y.tolist())\n",
    "res = perform_jaccard_coefficient(ground_truth, cluster_matrixs)\n",
    "print \"Rand index: \" + str(res[0]) + \" Jaccard Coefficient: \" + str(res[1])"
   ]
  },
  {
   "cell_type": "code",
   "execution_count": null,
   "metadata": {},
   "outputs": [],
   "source": []
  }
 ],
 "metadata": {
  "kernelspec": {
   "display_name": "Python 2",
   "language": "python",
   "name": "python2"
  },
  "language_info": {
   "codemirror_mode": {
    "name": "ipython",
    "version": 2
   },
   "file_extension": ".py",
   "mimetype": "text/x-python",
   "name": "python",
   "nbconvert_exporter": "python",
   "pygments_lexer": "ipython2",
   "version": "2.7.15+"
  }
 },
 "nbformat": 4,
 "nbformat_minor": 2
}
