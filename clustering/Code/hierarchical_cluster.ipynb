{
 "cells": [
  {
   "cell_type": "code",
   "execution_count": 4,
   "metadata": {},
   "outputs": [],
   "source": [
    "import pandas as pd\n",
    "import numpy as np\n",
    "from math import sqrt\n",
    "\n",
    "def load_data(file_name):\n",
    "    \"\"\"Load data as pandas dataframe\n",
    "    \"\"\"\n",
    "    data = pd.read_csv(file_name, delimiter='\\t', header=-1)\n",
    "    # Split columns\n",
    "    x = data.iloc[:, 2:]\n",
    "    y = data[1]\n",
    "    return x, y"
   ]
  },
  {
   "cell_type": "code",
   "execution_count": 5,
   "metadata": {},
   "outputs": [],
   "source": [
    "def caculate_jaccard_matrix(cluster):\n",
    "    matrixs = [[0 for i in range(len(cluster))] for i in range(len(cluster))]\n",
    "    for i in range(len(cluster)):\n",
    "        for j in range(len(cluster)):\n",
    "            if cluster[i] == cluster[j]:\n",
    "                matrixs[i][j] = 1\n",
    "    return matrixs"
   ]
  },
  {
   "cell_type": "code",
   "execution_count": 6,
   "metadata": {},
   "outputs": [],
   "source": [
    "def perform_jaccard_coefficient(truth, cluster):\n",
    "    \"\"\"caculate the rand and jaccard index\n",
    "    :parameter truth: ground truth labels, cluster: the labels from our algorithm\n",
    "    rtype: rand index(float), jaccard (float)\n",
    "    \"\"\"\n",
    "    same, diff, both_zero = 0, 0, 0\n",
    "    for idx_x, row in enumerate(truth):\n",
    "        for idx_y, value in enumerate(row):\n",
    "            if truth[idx_x][idx_y] == 1 and truth[idx_x][idx_y] == cluster[idx_x][idx_y]:\n",
    "                same += 1\n",
    "            elif truth[idx_x][idx_y] != cluster[idx_x][idx_y]:\n",
    "                diff += 1\n",
    "            else:\n",
    "                both_zero += 1\n",
    "    return (same + both_zero) * 1.0 / (same + both_zero + diff), (same) * 1.0 / (same + diff)"
   ]
  },
  {
   "cell_type": "code",
   "execution_count": 68,
   "metadata": {},
   "outputs": [],
   "source": [
    "def hierarchical_cluster(data_set, K):\n",
    "    data_set_target = {key: key for key in range(1, len(data_set) + 1)}\n",
    "    data_set_cluster = {key: [key] for key in range(1, len(data_set) + 1)}\n",
    "    distance = list()\n",
    "    for idxA in range(len(data_set)):\n",
    "        for idxB in range(len(data_set)):\n",
    "            if idxA != idxB:\n",
    "                dist = np.linalg.norm(data_set[idxA] - data_set[idxB])\n",
    "                distance.append((idxA + 1, (idxB + 1, dist)))\n",
    "    distance.sort(key=lambda kv: kv[1][1])\n",
    "\n",
    "    for data in distance:\n",
    "        A, B = data[0], data[1]\n",
    "        if data_set_target[A] != data_set_target[B[0]]:\n",
    "            data_set_cluster[data_set_target[A]].extend(data_set_cluster[data_set_target[B[0]]])\n",
    "            deleted = data_set_cluster.pop(data_set_target[B[0]], None)\n",
    "            for key in deleted:\n",
    "                data_set_target[key] = data_set_target[A]\n",
    "                \n",
    "        if len(data_set_cluster) == K:\n",
    "            return data_set_target.values()\n"
   ]
  },
  {
   "cell_type": "markdown",
   "metadata": {},
   "source": [
    "# 1. iyer.txt"
   ]
  },
  {
   "cell_type": "code",
   "execution_count": 69,
   "metadata": {},
   "outputs": [],
   "source": [
    "x, y = load_data('iyer.txt')\n",
    "x = np.array(x).astype(np.float)"
   ]
  },
  {
   "cell_type": "code",
   "execution_count": 70,
   "metadata": {},
   "outputs": [
    {
     "ename": "AttributeError",
     "evalue": "'list' object has no attribute 'update'",
     "output_type": "error",
     "traceback": [
      "\u001b[0;31m\u001b[0m",
      "\u001b[0;31mAttributeError\u001b[0mTraceback (most recent call last)",
      "\u001b[0;32m<ipython-input-70-9ee9f71ee678>\u001b[0m in \u001b[0;36m<module>\u001b[0;34m()\u001b[0m\n\u001b[0;32m----> 1\u001b[0;31m \u001b[0mcluster_labels\u001b[0m \u001b[0;34m=\u001b[0m \u001b[0mhierarchical_cluster\u001b[0m\u001b[0;34m(\u001b[0m\u001b[0mx\u001b[0m\u001b[0;34m,\u001b[0m \u001b[0;36m10\u001b[0m\u001b[0;34m)\u001b[0m\u001b[0;34m\u001b[0m\u001b[0;34m\u001b[0m\u001b[0m\n\u001b[0m",
      "\u001b[0;32m<ipython-input-68-b4d73759f6a1>\u001b[0m in \u001b[0;36mhierarchical_cluster\u001b[0;34m(data_set, K)\u001b[0m\n\u001b[1;32m     13\u001b[0m         \u001b[0mA\u001b[0m\u001b[0;34m,\u001b[0m \u001b[0mB\u001b[0m \u001b[0;34m=\u001b[0m \u001b[0mdata\u001b[0m\u001b[0;34m[\u001b[0m\u001b[0;36m0\u001b[0m\u001b[0;34m]\u001b[0m\u001b[0;34m,\u001b[0m \u001b[0mdata\u001b[0m\u001b[0;34m[\u001b[0m\u001b[0;36m1\u001b[0m\u001b[0;34m]\u001b[0m\u001b[0;34m\u001b[0m\u001b[0;34m\u001b[0m\u001b[0m\n\u001b[1;32m     14\u001b[0m         \u001b[0;32mif\u001b[0m \u001b[0mdata_set_target\u001b[0m\u001b[0;34m[\u001b[0m\u001b[0mA\u001b[0m\u001b[0;34m]\u001b[0m \u001b[0;34m!=\u001b[0m \u001b[0mdata_set_target\u001b[0m\u001b[0;34m[\u001b[0m\u001b[0mB\u001b[0m\u001b[0;34m[\u001b[0m\u001b[0;36m0\u001b[0m\u001b[0;34m]\u001b[0m\u001b[0;34m]\u001b[0m\u001b[0;34m:\u001b[0m\u001b[0;34m\u001b[0m\u001b[0;34m\u001b[0m\u001b[0m\n\u001b[0;32m---> 15\u001b[0;31m             \u001b[0mdata_set_cluster\u001b[0m\u001b[0;34m[\u001b[0m\u001b[0mdata_set_target\u001b[0m\u001b[0;34m[\u001b[0m\u001b[0mA\u001b[0m\u001b[0;34m]\u001b[0m\u001b[0;34m]\u001b[0m\u001b[0;34m.\u001b[0m\u001b[0mupdate\u001b[0m\u001b[0;34m(\u001b[0m\u001b[0mdata_set_cluster\u001b[0m\u001b[0;34m[\u001b[0m\u001b[0mdata_set_target\u001b[0m\u001b[0;34m[\u001b[0m\u001b[0mB\u001b[0m\u001b[0;34m[\u001b[0m\u001b[0;36m0\u001b[0m\u001b[0;34m]\u001b[0m\u001b[0;34m]\u001b[0m\u001b[0;34m]\u001b[0m\u001b[0;34m)\u001b[0m\u001b[0;34m\u001b[0m\u001b[0;34m\u001b[0m\u001b[0m\n\u001b[0m\u001b[1;32m     16\u001b[0m             \u001b[0mdeleted\u001b[0m \u001b[0;34m=\u001b[0m \u001b[0mdata_set_cluster\u001b[0m\u001b[0;34m.\u001b[0m\u001b[0mpop\u001b[0m\u001b[0;34m(\u001b[0m\u001b[0mdata_set_target\u001b[0m\u001b[0;34m[\u001b[0m\u001b[0mB\u001b[0m\u001b[0;34m[\u001b[0m\u001b[0;36m0\u001b[0m\u001b[0;34m]\u001b[0m\u001b[0;34m]\u001b[0m\u001b[0;34m,\u001b[0m \u001b[0mNone\u001b[0m\u001b[0;34m)\u001b[0m\u001b[0;34m\u001b[0m\u001b[0;34m\u001b[0m\u001b[0m\n\u001b[1;32m     17\u001b[0m             \u001b[0;32mfor\u001b[0m \u001b[0mkey\u001b[0m \u001b[0;32min\u001b[0m \u001b[0mdeleted\u001b[0m\u001b[0;34m:\u001b[0m\u001b[0;34m\u001b[0m\u001b[0;34m\u001b[0m\u001b[0m\n",
      "\u001b[0;31mAttributeError\u001b[0m: 'list' object has no attribute 'update'"
     ]
    }
   ],
   "source": [
    "cluster_labels = hierarchical_cluster(x, 10)"
   ]
  },
  {
   "cell_type": "code",
   "execution_count": null,
   "metadata": {},
   "outputs": [],
   "source": [
    "from sklearn.decomposition import PCA\n",
    "import matplotlib.pyplot as plt\n",
    "data_pca = PCA(n_components=2).fit_transform(x)\n",
    "fig, ax = plt.subplots()\n",
    "fig.suptitle('DBSCAN of iter.txt')\n",
    "for group in np.unique(cluster_labels):\n",
    "    idx = np.where(cluster_labels == group)\n",
    "    ax.scatter(data_pca[:, 0][idx], data_pca[:, 1][idx], label = group)\n",
    "ax.legend(loc=1, ncol=3)\n",
    "plt.show()"
   ]
  },
  {
   "cell_type": "code",
   "execution_count": null,
   "metadata": {},
   "outputs": [],
   "source": [
    "# Validate clustering results with external index \n",
    "cluster_matrixs = caculate_jaccard_matrix(cluster_labels)\n",
    "ground_truth = caculate_jaccard_matrix(y.tolist())\n",
    "res = perform_jaccard_coefficient(ground_truth, cluster_matrixs)\n",
    "print \"Rand index: \" + str(res[0]) + \" Jaccard Coefficient: \" + str(res[1])"
   ]
  },
  {
   "cell_type": "markdown",
   "metadata": {},
   "source": [
    "# 2. cho.txt"
   ]
  },
  {
   "cell_type": "code",
   "execution_count": 55,
   "metadata": {},
   "outputs": [],
   "source": [
    "x, y = load_data('cho.txt')\n",
    "x = np.array(x).astype(np.float)"
   ]
  },
  {
   "cell_type": "code",
   "execution_count": 56,
   "metadata": {},
   "outputs": [],
   "source": [
    "cluster_labels = hierarchical_cluster(x, 5)"
   ]
  },
  {
   "cell_type": "code",
   "execution_count": 57,
   "metadata": {},
   "outputs": [
    {
     "data": {
      "image/png": "[encoded data removed]",
      "text/plain": [
       "<Figure size 432x288 with 1 Axes>"
      ]
     },
     "metadata": {
      "needs_background": "light"
     },
     "output_type": "display_data"
    }
   ],
   "source": [
    "from sklearn.decomposition import PCA\n",
    "import matplotlib.pyplot as plt\n",
    "data_pca = PCA(n_components=2).fit_transform(x)\n",
    "fig, ax = plt.subplots()\n",
    "fig.suptitle('DBSCAN of cho.txt')\n",
    "for group in np.unique(cluster_labels):\n",
    "    idx = np.where(cluster_labels == group)\n",
    "    ax.scatter(data_pca[:, 0][idx], data_pca[:, 1][idx], label = group)\n",
    "ax.legend(loc=1, ncol=3)\n",
    "plt.show()"
   ]
  },
  {
   "cell_type": "code",
   "execution_count": 58,
   "metadata": {},
   "outputs": [
    {
     "name": "stdout",
     "output_type": "stream",
     "text": [
      "Rand index: 0.240274906709 Jaccard Coefficient: 0.228394977574\n"
     ]
    }
   ],
   "source": [
    "# Validate clustering results with external index \n",
    "cluster_matrixs = caculate_jaccard_matrix(cluster_labels)\n",
    "ground_truth = caculate_jaccard_matrix(y.tolist())\n",
    "res = perform_jaccard_coefficient(ground_truth, cluster_matrixs)\n",
    "print \"Rand index: \" + str(res[0]) + \" Jaccard Coefficient: \" + str(res[1])"
   ]
  },
  {
   "cell_type": "code",
   "execution_count": null,
   "metadata": {},
   "outputs": [],
   "source": []
  }
 ],
 "metadata": {
  "kernelspec": {
   "display_name": "Python 2",
   "language": "python",
   "name": "python2"
  },
  "language_info": {
   "codemirror_mode": {
    "name": "ipython",
    "version": 2
   },
   "file_extension": ".py",
   "mimetype": "text/x-python",
   "name": "python",
   "nbconvert_exporter": "python",
   "pygments_lexer": "ipython2",
   "version": "2.7.15+"
  }
 },
 "nbformat": 4,
 "nbformat_minor": 2
}
